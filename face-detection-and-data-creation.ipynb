{
 "cells": [
  {
   "cell_type": "code",
   "execution_count": null,
   "id": "preceding-drinking",
   "metadata": {},
   "outputs": [],
   "source": [
    "import numpy as np\n",
    "import matplotlib.pyplot as plt\n",
    "import matplotlib.image as image\n",
    "import os\n",
    "import cv2"
   ]
  },
  {
   "cell_type": "code",
   "execution_count": null,
   "id": "injured-second",
   "metadata": {},
   "outputs": [],
   "source": [
    "capture = cv2.VideoCapture(0)"
   ]
  },
  {
   "cell_type": "code",
   "execution_count": null,
   "id": "helpful-pavilion",
   "metadata": {},
   "outputs": [],
   "source": [
    "face_cascade = cv2.CascadeClassifier('./haarcascade_frontalface_alt.xml')"
   ]
  },
  {
   "cell_type": "code",
   "execution_count": null,
   "id": "similar-variety",
   "metadata": {},
   "outputs": [],
   "source": [
    "#Iterate to save data for each face\n",
    "face_data = []\n",
    "face_name = input(\"Enter face name :\")\n",
    "\n",
    "face_cascade = cv2.CascadeClassifier('./haarcascade_frontalface_alt.xml')\n",
    "dataset_path = './data/'\n",
    "\n",
    "#non-unique count, faces captured in total\n",
    "facecount = 0\n",
    "while True:\n",
    "    #ret is a return code, frame is the frame captured\n",
    "    ret, frame = capture.read()\n",
    "    #convert to grayscale if needed\n",
    "    grayscale = cv2.cvtColor(frame, cv2.COLOR_BGR2GRAY)\n",
    "    #ret is false if frame was not captured properly, so we ignore that particular frame\n",
    "    if ret == False:\n",
    "        continue\n",
    "    #stores the faces coordinates in rectangle start, width and height\n",
    "    faces = face_cascade.detectMultiScale(grayscale, 1.3, 5)\n",
    "    #iterating over each face detected in that particular frame\n",
    "    for face in faces:\n",
    "        #extracting our values from face\n",
    "        x,y,w,h = face\n",
    "        #offset value to increase our displayed rectangle size\n",
    "        offset = 50\n",
    "        #creating a rectangle using the coordinates known, top-left and bottom-right, color, and width\n",
    "        cv2.rectangle(grayscale, (x - offset, y - offset), (x+w+offset, y+h+offset), (255,255,255), 4)\n",
    "        #Slice of frame to select out face part\n",
    "        face_section = grayscale[y - offset : y + h + offset, x - offset : x + w + offset]\n",
    "        #resizing face section to a particular standard so that we will be able to apply KNN later\n",
    "        face_section = cv2.resize(face_section, (100,100))\n",
    "        #Storing facial data\n",
    "        face_data.append(face_section)\n",
    "    #increment facecount, better to interpret as framecount or size of training data\n",
    "    facecount += 1\n",
    "    print(facecount)\n",
    "    cv2.imshow(\"Face Detection\", grayscale)\n",
    "    #first and operation basically gets key from user and compares it to binary equivalent of mentioned key\n",
    "    #loop breaks if key matches\n",
    "    if cv2.waitKey(1) & 0xFF == ord('q'):\n",
    "        break\n",
    "#releases capture interface\n",
    "capture.release()\n",
    "#closes any windows created, not doing so will cause process to freeze\n",
    "cv2.destroyAllWindows()\n",
    "\n",
    "#convert tuple to numpy array\n",
    "face_data = np.asarray(face_data)\n",
    "#resize, flattening to 1d rows, -1 causes other dimensions to adjust in favor of mantaining specified ones\n",
    "face_data = face_data.reshape((face_data.shape[0],-1))\n",
    "print(np.shape(face_data))\n",
    "\n",
    "#saving data to path\n",
    "np.save(dataset_path + face_name, face_data)"
   ]
  },
  {
   "cell_type": "code",
   "execution_count": null,
   "id": "d296be29",
   "metadata": {},
   "outputs": [],
   "source": []
  }
 ],
 "metadata": {
  "kernelspec": {
   "display_name": "Python 3",
   "language": "python",
   "name": "python3"
  },
  "language_info": {
   "codemirror_mode": {
    "name": "ipython",
    "version": 3
   },
   "file_extension": ".py",
   "mimetype": "text/x-python",
   "name": "python",
   "nbconvert_exporter": "python",
   "pygments_lexer": "ipython3",
   "version": "3.9.4"
  }
 },
 "nbformat": 4,
 "nbformat_minor": 5
}
